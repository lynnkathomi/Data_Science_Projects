{
  "nbformat": 4,
  "nbformat_minor": 0,
  "metadata": {
    "colab": {
      "provenance": [],
      "include_colab_link": true
    },
    "kernelspec": {
      "name": "python3",
      "display_name": "Python 3"
    },
    "language_info": {
      "name": "python"
    }
  },
  "cells": [
    {
      "cell_type": "markdown",
      "metadata": {
        "id": "view-in-github",
        "colab_type": "text"
      },
      "source": [
        "<a href=\"https://colab.research.google.com/github/lynnkathomi/Data_Science_Projects/blob/main/Copy_of_sample_application_gen_ai.ipynb\" target=\"_parent\"><img src=\"https://colab.research.google.com/assets/colab-badge.svg\" alt=\"Open In Colab\"/></a>"
      ]
    },
    {
      "cell_type": "code",
      "execution_count": 1,
      "metadata": {
        "id": "U-uqpiN3yUXP"
      },
      "outputs": [],
      "source": [
        "# Step 1: Install Gemini SDK\n",
        "!pip install -q google-generativeai"
      ]
    },
    {
      "cell_type": "code",
      "source": [
        "# Step 2: Set API Key Securely\n",
        "import os\n",
        "import getpass\n",
        "import google.generativeai as genai\n",
        "\n",
        "# Prompt for your API key securely\n",
        "api_key = getpass.getpass(\"🔑 Enter your Gemini API Key: \")\n",
        "os.environ[\"GOOGLE_API_KEY\"] = api_key\n",
        "\n",
        "# Configure Gemini\n",
        "genai.configure(api_key=api_key)\n"
      ],
      "metadata": {
        "id": "6qSiemHOyvXt",
        "outputId": "d80cbb91-0e33-4c58-e57c-bb9d9e7827aa",
        "colab": {
          "base_uri": "https://localhost:8080/"
        }
      },
      "execution_count": 3,
      "outputs": [
        {
          "name": "stdout",
          "output_type": "stream",
          "text": [
            "🔑 Enter your Gemini API Key: ··········\n"
          ]
        }
      ]
    },
    {
      "cell_type": "code",
      "source": [
        "# Step 3: Initialize Chat Model (with Memory)\n",
        "\n",
        "# Create a Gemini chat model with memory (context)\n",
        "model = genai.GenerativeModel(\"gemini-1.5-pro\", generation_config={\"temperature\": 0.9} )\n",
        "\n",
        "chat = model.start_chat(history=[])\n"
      ],
      "metadata": {
        "id": "GcE7CJ71y8Mi"
      },
      "execution_count": 4,
      "outputs": []
    },
    {
      "cell_type": "code",
      "source": [
        "# Step 4: Chat Function (Text Only)\n",
        "from IPython.display import Markdown\n",
        "\n",
        "def chat_with_gemini(user_input):\n",
        "    try:\n",
        "        response = chat.send_message(user_input)\n",
        "        return response.text\n",
        "    except Exception as e:\n",
        "        return f\"❌ Error: {e}\"\n"
      ],
      "metadata": {
        "id": "1NyAlefBzGLd"
      },
      "execution_count": 5,
      "outputs": []
    },
    {
      "cell_type": "code",
      "source": [
        "# Step 5: Interactive Chat Loop\n",
        "print(\"💬 Gemini is ready! Type 'exit' to quit.\\n\")\n",
        "\n",
        "while True:\n",
        "    user_input = input(\"You: \")\n",
        "    if user_input.strip().lower() == \"exit\":\n",
        "        print(\"👋 Goodbye!\")\n",
        "        break\n",
        "    response = chat_with_gemini(user_input)\n",
        "    display(Markdown(f\"**Gemini:** {response}\"))\n"
      ],
      "metadata": {
        "id": "zL6FlLf_zWa7",
        "outputId": "9ebec83b-69ba-4b05-f3d3-1f245660809b",
        "colab": {
          "base_uri": "https://localhost:8080/",
          "height": 1000
        }
      },
      "execution_count": 6,
      "outputs": [
        {
          "name": "stdout",
          "output_type": "stream",
          "text": [
            "💬 Gemini is ready! Type 'exit' to quit.\n",
            "\n",
            "You: help me to create a web app for a quize game\n"
          ]
        },
        {
          "output_type": "display_data",
          "data": {
            "text/plain": [
              "<IPython.core.display.Markdown object>"
            ],
            "text/markdown": "**Gemini:** Let's outline the creation of a quiz web app. This will cover the frontend (user interface), backend (logic and data), and potential deployment.\n\n**I. Frontend (HTML, CSS, JavaScript)**\n\n1.  **Structure (HTML):**\n\n    *   `index.html`:  The main page containing:\n        *   A title/heading for the quiz.\n        *   A container (`<div>`) to hold the quiz questions.  Give it an ID like `quiz-container`.\n        *   A container for displaying the results (`<div id=\"results-container\">`). Initially hidden.\n        *   Buttons for starting the quiz, submitting answers, and potentially navigating between questions (if not a single-page quiz).\n\n2.  **Styling (CSS):**\n\n    *   `style.css`: Style the elements for a clean and appealing look. Consider:\n        *   Font choices, sizes, colors.\n        *   Layout (centering, spacing).\n        *   Responsive design (adapts to different screen sizes).\n\n3.  **Logic (JavaScript):**\n\n    *   `script.js`:  This is where the quiz functionality comes to life.\n        *   **Data:**  You can store your quiz questions and answers in a JavaScript array of objects or fetch them from a backend (explained later). Example:\n\n        ```javascript\n        const quizData = [\n            {\n                question: \"What is the capital of France?\",\n                choices: [\"Berlin\", \"Madrid\", \"Paris\", \"Rome\"],\n                correctAnswer: \"Paris\"\n            },\n            // ... more questions\n        ];\n        ```\n\n        *   **Display Questions:** A function to dynamically create HTML elements (question text, answer choices as radio buttons or buttons) within the `quiz-container` based on the `quizData`.\n        *   **Event Handling:**\n            *   \"Start Quiz\" button:  Begins the quiz, displays the first question.\n            *   Answer choices:  Record the user's selection.\n            *   \"Submit\" button:  Calculates the score, hides the quiz questions, and shows the results in the `results-container`.\n\n        *   **Calculate Score:**  Compare user answers to the correct answers in `quizData`.\n        *   **Display Results:** Show the score, feedback, or any other relevant information in the `results-container`.\n\n\n**II. Backend (Optional, but recommended for larger quizzes or dynamic content)**\n\nYou can use a backend to store your quiz data (in a database) and serve it to the frontend via API calls.  This separates concerns and makes the quiz more scalable.\n\n1.  **Database (e.g., MongoDB, PostgreSQL, MySQL):**  Store your quiz questions, choices, and correct answers in a structured way.\n\n2.  **Server-Side Language (e.g., Node.js, Python/Flask, Ruby on Rails):**  Create API endpoints (e.g., `/getQuizData`) to retrieve quiz data.\n\n3.  **Frontend JavaScript (updated):** Use `fetch` or `XMLHttpRequest` to make requests to your backend API to get the quiz data instead of hardcoding it in the JavaScript file.\n\n\n**III. Deployment**\n\n*   **Static Hosting (for simple frontend-only quizzes):**  Netlify, Vercel, GitHub Pages.\n*   **Server Hosting (if using a backend):** Heroku, AWS, Google Cloud, Azure.\n\n\n\n**Example JavaScript Snippet (Frontend):**\n\n```javascript\nconst quizContainer = document.getElementById('quiz-container');\nlet currentQuestion = 0;\nlet score = 0;\n\nfunction displayQuestion() {\n  // Get the current question object from quizData\n  const questionData = quizData[currentQuestion];\n\n  // Create HTML elements for the question and choices dynamically\n  // ... (Implementation to generate question text and radio buttons/buttons)\n\n  quizContainer.innerHTML = generatedHTML; // Add the elements to the quiz container\n}\n\n// ... (rest of your JavaScript logic for handling events, calculating scores, etc.)\n\n\n```\n\nThis provides a solid foundation.  Let me know if you'd like more details on any specific part (e.g., how to fetch data from a backend, dynamic HTML generation, or a particular backend technology).  I can then provide more targeted code examples.\n"
          },
          "metadata": {}
        },
        {
          "output_type": "stream",
          "name": "stdout",
          "text": [
            "You: exit\n",
            "👋 Goodbye!\n"
          ]
        }
      ]
    },
    {
      "cell_type": "code",
      "source": [
        "# BONUS: Upload Image + Prompt Together\n",
        "# We can give Gemini both an image and a prompt, since it's a multimodal model\n",
        "\n",
        "from google.colab import files\n",
        "from PIL import Image\n",
        "import io\n",
        "\n",
        "uploaded = files.upload()\n",
        "\n",
        "# Load the uploaded image\n",
        "image_path = list(uploaded.keys())[0]\n",
        "image = Image.open(image_path)\n",
        "\n",
        "# Ask a question about the image\n",
        "prompt = input(\"Ask something about the image: \")\n",
        "\n",
        "response = model.generate_content([prompt, image], stream=False)\n",
        "display(Markdown(f\"**Gemini (on image):** {response.text}\"))\n"
      ],
      "metadata": {
        "id": "fDx2bSUGz7wS",
        "colab": {
          "base_uri": "https://localhost:8080/",
          "height": 154
        },
        "outputId": "92cbf94b-dc2a-49ff-d241-f036e034dc1a"
      },
      "execution_count": 8,
      "outputs": [
        {
          "output_type": "display_data",
          "data": {
            "text/plain": [
              "<IPython.core.display.HTML object>"
            ],
            "text/html": [
              "\n",
              "     <input type=\"file\" id=\"files-4f7fd767-2302-4b89-a2cd-bcf2a3df031c\" name=\"files[]\" multiple disabled\n",
              "        style=\"border:none\" />\n",
              "     <output id=\"result-4f7fd767-2302-4b89-a2cd-bcf2a3df031c\">\n",
              "      Upload widget is only available when the cell has been executed in the\n",
              "      current browser session. Please rerun this cell to enable.\n",
              "      </output>\n",
              "      <script>// Copyright 2017 Google LLC\n",
              "//\n",
              "// Licensed under the Apache License, Version 2.0 (the \"License\");\n",
              "// you may not use this file except in compliance with the License.\n",
              "// You may obtain a copy of the License at\n",
              "//\n",
              "//      http://www.apache.org/licenses/LICENSE-2.0\n",
              "//\n",
              "// Unless required by applicable law or agreed to in writing, software\n",
              "// distributed under the License is distributed on an \"AS IS\" BASIS,\n",
              "// WITHOUT WARRANTIES OR CONDITIONS OF ANY KIND, either express or implied.\n",
              "// See the License for the specific language governing permissions and\n",
              "// limitations under the License.\n",
              "\n",
              "/**\n",
              " * @fileoverview Helpers for google.colab Python module.\n",
              " */\n",
              "(function(scope) {\n",
              "function span(text, styleAttributes = {}) {\n",
              "  const element = document.createElement('span');\n",
              "  element.textContent = text;\n",
              "  for (const key of Object.keys(styleAttributes)) {\n",
              "    element.style[key] = styleAttributes[key];\n",
              "  }\n",
              "  return element;\n",
              "}\n",
              "\n",
              "// Max number of bytes which will be uploaded at a time.\n",
              "const MAX_PAYLOAD_SIZE = 100 * 1024;\n",
              "\n",
              "function _uploadFiles(inputId, outputId) {\n",
              "  const steps = uploadFilesStep(inputId, outputId);\n",
              "  const outputElement = document.getElementById(outputId);\n",
              "  // Cache steps on the outputElement to make it available for the next call\n",
              "  // to uploadFilesContinue from Python.\n",
              "  outputElement.steps = steps;\n",
              "\n",
              "  return _uploadFilesContinue(outputId);\n",
              "}\n",
              "\n",
              "// This is roughly an async generator (not supported in the browser yet),\n",
              "// where there are multiple asynchronous steps and the Python side is going\n",
              "// to poll for completion of each step.\n",
              "// This uses a Promise to block the python side on completion of each step,\n",
              "// then passes the result of the previous step as the input to the next step.\n",
              "function _uploadFilesContinue(outputId) {\n",
              "  const outputElement = document.getElementById(outputId);\n",
              "  const steps = outputElement.steps;\n",
              "\n",
              "  const next = steps.next(outputElement.lastPromiseValue);\n",
              "  return Promise.resolve(next.value.promise).then((value) => {\n",
              "    // Cache the last promise value to make it available to the next\n",
              "    // step of the generator.\n",
              "    outputElement.lastPromiseValue = value;\n",
              "    return next.value.response;\n",
              "  });\n",
              "}\n",
              "\n",
              "/**\n",
              " * Generator function which is called between each async step of the upload\n",
              " * process.\n",
              " * @param {string} inputId Element ID of the input file picker element.\n",
              " * @param {string} outputId Element ID of the output display.\n",
              " * @return {!Iterable<!Object>} Iterable of next steps.\n",
              " */\n",
              "function* uploadFilesStep(inputId, outputId) {\n",
              "  const inputElement = document.getElementById(inputId);\n",
              "  inputElement.disabled = false;\n",
              "\n",
              "  const outputElement = document.getElementById(outputId);\n",
              "  outputElement.innerHTML = '';\n",
              "\n",
              "  const pickedPromise = new Promise((resolve) => {\n",
              "    inputElement.addEventListener('change', (e) => {\n",
              "      resolve(e.target.files);\n",
              "    });\n",
              "  });\n",
              "\n",
              "  const cancel = document.createElement('button');\n",
              "  inputElement.parentElement.appendChild(cancel);\n",
              "  cancel.textContent = 'Cancel upload';\n",
              "  const cancelPromise = new Promise((resolve) => {\n",
              "    cancel.onclick = () => {\n",
              "      resolve(null);\n",
              "    };\n",
              "  });\n",
              "\n",
              "  // Wait for the user to pick the files.\n",
              "  const files = yield {\n",
              "    promise: Promise.race([pickedPromise, cancelPromise]),\n",
              "    response: {\n",
              "      action: 'starting',\n",
              "    }\n",
              "  };\n",
              "\n",
              "  cancel.remove();\n",
              "\n",
              "  // Disable the input element since further picks are not allowed.\n",
              "  inputElement.disabled = true;\n",
              "\n",
              "  if (!files) {\n",
              "    return {\n",
              "      response: {\n",
              "        action: 'complete',\n",
              "      }\n",
              "    };\n",
              "  }\n",
              "\n",
              "  for (const file of files) {\n",
              "    const li = document.createElement('li');\n",
              "    li.append(span(file.name, {fontWeight: 'bold'}));\n",
              "    li.append(span(\n",
              "        `(${file.type || 'n/a'}) - ${file.size} bytes, ` +\n",
              "        `last modified: ${\n",
              "            file.lastModifiedDate ? file.lastModifiedDate.toLocaleDateString() :\n",
              "                                    'n/a'} - `));\n",
              "    const percent = span('0% done');\n",
              "    li.appendChild(percent);\n",
              "\n",
              "    outputElement.appendChild(li);\n",
              "\n",
              "    const fileDataPromise = new Promise((resolve) => {\n",
              "      const reader = new FileReader();\n",
              "      reader.onload = (e) => {\n",
              "        resolve(e.target.result);\n",
              "      };\n",
              "      reader.readAsArrayBuffer(file);\n",
              "    });\n",
              "    // Wait for the data to be ready.\n",
              "    let fileData = yield {\n",
              "      promise: fileDataPromise,\n",
              "      response: {\n",
              "        action: 'continue',\n",
              "      }\n",
              "    };\n",
              "\n",
              "    // Use a chunked sending to avoid message size limits. See b/62115660.\n",
              "    let position = 0;\n",
              "    do {\n",
              "      const length = Math.min(fileData.byteLength - position, MAX_PAYLOAD_SIZE);\n",
              "      const chunk = new Uint8Array(fileData, position, length);\n",
              "      position += length;\n",
              "\n",
              "      const base64 = btoa(String.fromCharCode.apply(null, chunk));\n",
              "      yield {\n",
              "        response: {\n",
              "          action: 'append',\n",
              "          file: file.name,\n",
              "          data: base64,\n",
              "        },\n",
              "      };\n",
              "\n",
              "      let percentDone = fileData.byteLength === 0 ?\n",
              "          100 :\n",
              "          Math.round((position / fileData.byteLength) * 100);\n",
              "      percent.textContent = `${percentDone}% done`;\n",
              "\n",
              "    } while (position < fileData.byteLength);\n",
              "  }\n",
              "\n",
              "  // All done.\n",
              "  yield {\n",
              "    response: {\n",
              "      action: 'complete',\n",
              "    }\n",
              "  };\n",
              "}\n",
              "\n",
              "scope.google = scope.google || {};\n",
              "scope.google.colab = scope.google.colab || {};\n",
              "scope.google.colab._files = {\n",
              "  _uploadFiles,\n",
              "  _uploadFilesContinue,\n",
              "};\n",
              "})(self);\n",
              "</script> "
            ]
          },
          "metadata": {}
        },
        {
          "name": "stdout",
          "output_type": "stream",
          "text": [
            "Saving mel.jpg to mel.jpg\n",
            "Ask something about the image: whats happenning in the image\n"
          ]
        },
        {
          "output_type": "display_data",
          "data": {
            "text/plain": [
              "<IPython.core.display.Markdown object>"
            ],
            "text/markdown": "**Gemini (on image):** A couple is posing for a photo. The woman is wearing a light green off-the-shoulder dress and the man is wearing a light gray t-shirt and dark jeans. They are standing close together, with the man's arm around the woman's shoulders.  They appear happy and affectionate. The photo appears to be taken outdoors at dusk or twilight, as the background is dark and blurry.  A car's taillights are visible in the background.  It looks like a romantic or engagement photo."
          },
          "metadata": {}
        }
      ]
    },
    {
      "cell_type": "code",
      "source": [
        "# Step 6: View Conversation History (Optional)\n",
        "\n",
        "print(\"📝 Conversation history:\")\n",
        "for i, msg in enumerate(chat.history):\n",
        "    role = \"You\" if msg.role == \"user\" else \"Gemini\"\n",
        "    print(f\"{role}: {msg.parts[0].text}\\n\")\n"
      ],
      "metadata": {
        "id": "1HThNIKF0wQH"
      },
      "execution_count": null,
      "outputs": []
    }
  ]
}